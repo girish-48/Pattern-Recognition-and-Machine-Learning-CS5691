{
 "cells": [
  {
   "cell_type": "code",
   "execution_count": 2,
   "metadata": {},
   "outputs": [],
   "source": [
    "import numpy as np\n",
    "import pandas as pd\n",
    "import numpy.linalg as linal"
   ]
  },
  {
   "cell_type": "markdown",
   "metadata": {},
   "source": [
    "### **Initialiazing the different Datasets**"
   ]
  },
  {
   "cell_type": "code",
   "execution_count": 3,
   "metadata": {},
   "outputs": [],
   "source": [
    "train = pd.read_csv(r'.\\train_data.csv', header=None)\n",
    "xtrain = train.to_numpy()\n",
    "\n",
    "train = pd.read_csv(r'.\\train_label.csv', header=None)\n",
    "ytrain = train.to_numpy()\n",
    "\n",
    "test  = pd.read_csv(r'.\\test_data.csv', header=None)\n",
    "xtest = test.to_numpy()\n",
    "\n",
    "test  = pd.read_csv(r'.\\test_label.csv', header=None)\n",
    "ytest = test.to_numpy()\n",
    "\n",
    "val   = pd.read_csv(r'.\\val_data.csv', header=None)\n",
    "xval  = val.to_numpy() \n",
    "\n",
    "val   = pd.read_csv(r'.\\val_label.csv', header=None)\n",
    "yval  = val.to_numpy()"
   ]
  },
  {
   "cell_type": "markdown",
   "metadata": {},
   "source": [
    "### **K-Nearest Neighbours Classification algorithm**"
   ]
  },
  {
   "cell_type": "code",
   "execution_count": 4,
   "metadata": {},
   "outputs": [],
   "source": [
    "# assigns class for every datapoint \n",
    "\n",
    "def knn (x,y,point,output,k) :\n",
    "    vec         = x - point\n",
    "    dist        = np.diag(vec@vec.T)\n",
    "    index       = np.argpartition(dist, k)\n",
    "    min_dist    = np.vectorize(int)(y[index].T[0]) [0:k]\n",
    "    pred_class  = np.bincount(min_dist).argmax()\n",
    "\n",
    "    return pred_class"
   ]
  },
  {
   "cell_type": "code",
   "execution_count": 5,
   "metadata": {},
   "outputs": [],
   "source": [
    "# determining the class for every datapoint using the training data as reference \n",
    "\n",
    "def classifier(x,y,k) :\n",
    "    sum = 0\n",
    "    confusion_matrix = np.vectorize(int)(np.zeros((5,5)))\n",
    "\n",
    "    for j in range(len(y)) :\n",
    "        actual_class = int(y[j,0])\n",
    "        pred_class = knn(xtrain,ytrain,x[j,:],y[j,0],k)\n",
    "        confusion_matrix[pred_class,actual_class] = confusion_matrix[pred_class,actual_class] + 1\n",
    "        \n",
    "    print( confusion_matrix )\n",
    "    print(f'classification accuracy : {np.sum(np.diag(confusion_matrix))/np.sum(confusion_matrix) * 100:.2f} %' )"
   ]
  },
  {
   "cell_type": "code",
   "execution_count": 6,
   "metadata": {},
   "outputs": [
    {
     "name": "stdout",
     "output_type": "stream",
     "text": [
      "k = 1 : training results :\n",
      "[[700   0   0   0   0]\n",
      " [  0 700   0   0   0]\n",
      " [  0   0 700   0   0]\n",
      " [  0   0   0 700   0]\n",
      " [  0   0   0   0 700]]\n",
      "classification accuracy : 100.00 %\n",
      "k = 1 : validation results :\n",
      "[[ 85  13   8   7  32]\n",
      " [ 24  72  28  28  14]\n",
      " [ 20  66 111  56  32]\n",
      " [ 12  35  39 106  12]\n",
      " [ 59  14  14   3 110]]\n",
      "classification accuracy : 48.40 %\n",
      "k = 1 : test data results :\n",
      "[[31  8  3  3 21]\n",
      " [ 9 31 14 10  8]\n",
      " [14 38 54 29 13]\n",
      " [12 16 23 51  6]\n",
      " [34  7  6  7 52]]\n",
      "classification accuracy : 43.80 %\n",
      "\n",
      "\n",
      "k = 7 : training results :\n",
      "[[435  46  28  17  81]\n",
      " [ 44 400  66  53  40]\n",
      " [ 92 179 534 161  71]\n",
      " [ 26  57  53 463  23]\n",
      " [103  18  19   6 485]]\n",
      "classification accuracy : 66.20 %\n",
      "k = 7 : validation results :\n",
      "[[ 87  20  11   4  30]\n",
      " [ 17  70  24  15  12]\n",
      " [ 28  80 138  72  33]\n",
      " [ 10  24  22 107  10]\n",
      " [ 58   6   5   2 115]]\n",
      "classification accuracy : 51.70 %\n",
      "k = 7 : test data results :\n",
      "[[37  9  2  1 20]\n",
      " [ 8 38 12  4  5]\n",
      " [18 37 71 38 13]\n",
      " [ 8 15 11 57  2]\n",
      " [29  1  4  0 60]]\n",
      "classification accuracy : 52.60 %\n",
      "\n",
      "\n",
      "k = 15 : training results :\n",
      "[[365  34  19  11  61]\n",
      " [ 47 328  36  38  24]\n",
      " [116 245 566 215  86]\n",
      " [ 32  61  58 425  35]\n",
      " [140  32  21  11 494]]\n",
      "classification accuracy : 62.23 %\n",
      "k = 15 : validation results :\n",
      "[[ 77  12   4   3  19]\n",
      " [ 15  73  21  12   7]\n",
      " [ 36  92 150  70  29]\n",
      " [  8  17  15 113   8]\n",
      " [ 64   6  10   2 137]]\n",
      "classification accuracy : 55.00 %\n",
      "k = 15 : test data results :\n",
      "[[34  6  4  0 14]\n",
      " [10 32  6  4  4]\n",
      " [19 46 73 45 14]\n",
      " [ 5 14 13 51  4]\n",
      " [32  2  4  0 64]]\n",
      "classification accuracy : 50.80 %\n",
      "\n",
      "\n"
     ]
    }
   ],
   "source": [
    "for k in [1,7,15] :\n",
    "    print(f'k = {k} : training results :')\n",
    "    classifier(xtrain,ytrain,k)\n",
    "    print(f'k = {k} : validation results :')\n",
    "    classifier(xval,yval,k)\n",
    "    print(f'k = {k} : test data results :')\n",
    "    classifier(xtest,ytest,k)\n",
    "    print('\\n')"
   ]
  },
  {
   "cell_type": "markdown",
   "metadata": {},
   "source": [
    "---\n",
    "### **Naive Bayes Classifier**\n",
    "Computing the Prior Probabilities"
   ]
  },
  {
   "cell_type": "code",
   "execution_count": 7,
   "metadata": {},
   "outputs": [],
   "source": [
    "def calculate_params(var) :\n",
    "    mean = var.mean(axis=0)\n",
    "    cvar = var - mean\n",
    "    cov  = cvar.T@cvar/len(var)\n",
    "    return 0.2,mean,cov\n",
    "\n",
    "P0, mean0, cov0 = calculate_params(xtrain[0:700,:])\n",
    "P1, mean1, cov1 = calculate_params(xtrain[700:1400,:])\n",
    "P2, mean2, cov2 = calculate_params(xtrain[1400:2100,:])\n",
    "P3, mean3, cov3 = calculate_params(xtrain[2100:2800,:])\n",
    "P4, mean4, cov4 = calculate_params(xtrain[2800:3500,:])"
   ]
  },
  {
   "cell_type": "markdown",
   "metadata": {},
   "source": [
    "$$P(\\bar x | y_i) = \\frac{1}{\\sqrt{2\\pi|C_i|}} \\cdot e^{-\\frac{1}{2} \\cdot \\left( \\bar x - \\bar \\mu \\right)^T C^{-1} \\left( \\bar x - \\bar \\mu \\right) }$$"
   ]
  },
  {
   "cell_type": "code",
   "execution_count": 8,
   "metadata": {},
   "outputs": [],
   "source": [
    "def calculate_conditional_probability(x, mean, cov) :\n",
    "    x = x [np.newaxis]\n",
    "    mean = mean [np.newaxis]\n",
    "    z = x.T - mean.T \n",
    "    expo = -0.5*z.T@linal.inv(cov)@z\n",
    "    const = 1/( (2*np.pi)**81 *linal.det(cov) )**0.5\n",
    "    value = const*np.exp(expo)\n",
    "    return value"
   ]
  },
  {
   "cell_type": "code",
   "execution_count": 9,
   "metadata": {},
   "outputs": [],
   "source": [
    "def bayes_classifier(X,Y) :\n",
    "    confusion_matrix = np.vectorize(int)(np.zeros((5,5)))\n",
    "    for index in range(len(X)) :\n",
    "        max = 0\n",
    "        pred_class = -1\n",
    "        actual_class = int(Y[index,0])\n",
    "        for i,j,k in [(mean0, cov0, 0), (mean1, cov1, 1), (mean2, cov2, 2), (mean3, cov3, 3), (mean4, cov4, 4)] :\n",
    "            val = calculate_conditional_probability(X[index], i, j) [0,0]\n",
    "            if (val > max) : \n",
    "                max = val\n",
    "                pred_class = k\n",
    "\n",
    "        confusion_matrix[pred_class, actual_class] = confusion_matrix[pred_class, actual_class] + 1\n",
    "\n",
    "    num = np.sum(np.diag(confusion_matrix))\n",
    "    den = np.sum(confusion_matrix) \n",
    "    accuracy = num*100/den \n",
    "    return confusion_matrix, accuracy \n"
   ]
  },
  {
   "cell_type": "code",
   "execution_count": 10,
   "metadata": {},
   "outputs": [
    {
     "data": {
      "text/plain": [
       "(array([[545,  33,  17,   8,  21],\n",
       "        [ 30, 574,  17,  19,  27],\n",
       "        [ 17,  38, 617,  32,  15],\n",
       "        [ 22,  24,  27, 629,  13],\n",
       "        [ 86,  31,  22,  12, 624]]),\n",
       " 85.4)"
      ]
     },
     "execution_count": 10,
     "metadata": {},
     "output_type": "execute_result"
    }
   ],
   "source": [
    "bayes_classifier(xtrain,ytrain)"
   ]
  },
  {
   "cell_type": "code",
   "execution_count": 11,
   "metadata": {},
   "outputs": [
    {
     "data": {
      "text/plain": [
       "(array([[ 83,  22,  23,   8,  23],\n",
       "        [ 24, 108,  51,  32,  15],\n",
       "        [ 18,  34,  88,  37,  13],\n",
       "        [ 10,  23,  28, 113,   6],\n",
       "        [ 65,  13,  10,  10, 143]]),\n",
       " 53.5)"
      ]
     },
     "execution_count": 11,
     "metadata": {},
     "output_type": "execute_result"
    }
   ],
   "source": [
    "bayes_classifier(xval, yval)"
   ]
  },
  {
   "cell_type": "code",
   "execution_count": 12,
   "metadata": {},
   "outputs": [
    {
     "data": {
      "text/plain": [
       "(array([[44, 10,  4,  0, 16],\n",
       "        [18, 63, 21,  9,  6],\n",
       "        [ 5, 11, 49, 25,  6],\n",
       "        [ 7, 11, 19, 61,  9],\n",
       "        [26,  5,  7,  5, 63]]),\n",
       " 56.0)"
      ]
     },
     "execution_count": 12,
     "metadata": {},
     "output_type": "execute_result"
    }
   ],
   "source": [
    "bayes_classifier(xtest,ytest)"
   ]
  }
 ],
 "metadata": {
  "kernelspec": {
   "display_name": "base",
   "language": "python",
   "name": "python3"
  },
  "language_info": {
   "codemirror_mode": {
    "name": "ipython",
    "version": 3
   },
   "file_extension": ".py",
   "mimetype": "text/x-python",
   "name": "python",
   "nbconvert_exporter": "python",
   "pygments_lexer": "ipython3",
   "version": "3.10.9"
  }
 },
 "nbformat": 4,
 "nbformat_minor": 2
}
