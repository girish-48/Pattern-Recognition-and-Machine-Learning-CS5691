{
  "cells": [
    {
      "cell_type": "code",
      "execution_count": 3,
      "metadata": {
        "id": "9E_7dAH_L84H"
      },
      "outputs": [],
      "source": [
        "\n",
        "import os\n",
        "import zipfile"
      ]
    },
    {
      "cell_type": "code",
      "execution_count": 4,
      "metadata": {
        "colab": {
          "base_uri": "https://localhost:8080/"
        },
        "id": "YwFeWBVaMFet",
        "outputId": "4f52ea44-67a7-4aaf-c8aa-206ede38e717"
      },
      "outputs": [
        {
          "output_type": "stream",
          "name": "stdout",
          "text": [
            "Mounted at /content/drive\n"
          ]
        }
      ],
      "source": [
        "from google.colab import drive\n",
        "drive.mount('/content/drive', force_remount=False)\n",
        "source_zip_path = '/content/drive/MyDrive/team14-20230919T065414Z-001.zip'\n",
        "destination_folder = '/content/data'\n",
        "\n",
        "os.makedirs(destination_folder, exist_ok=True)\n",
        "with zipfile.ZipFile(source_zip_path, 'r') as zip_ref:\n",
        "    zip_ref.extractall(destination_folder)"
      ]
    },
    {
      "cell_type": "code",
      "execution_count": 5,
      "metadata": {
        "id": "nyJF9rRuKqYg"
      },
      "outputs": [],
      "source": [
        "import numpy as np\n",
        "import pandas as pd\n",
        "import matplotlib.pyplot as plt"
      ]
    },
    {
      "cell_type": "code",
      "execution_count": 6,
      "metadata": {
        "id": "YJHOs28xK4_Q"
      },
      "outputs": [],
      "source": [
        "path_folder='/content/data/team14/'\n",
        "train_path_10=path_folder + 'Train-14-Sample-1.csv'\n",
        "train_path_100=path_folder + 'Train-14-Sample-2.csv'\n",
        "\n",
        "val_path=path_folder + 'Val-14.csv'\n",
        "test_path=path_folder + 'Test-14.csv'\n",
        "\n",
        "data = pd.read_csv(train_path_100)"
      ]
    },
    {
      "cell_type": "code",
      "execution_count": 7,
      "metadata": {
        "id": "rfZQKt5A65cP"
      },
      "outputs": [],
      "source": [
        "train_100 = np.genfromtxt(train_path_100, delimiter=',',skip_header=1, dtype=np.float32)\n",
        "train_10 = np.genfromtxt(train_path_10, delimiter=',',skip_header=1, dtype=np.float32)\n",
        "# for i in range(len(train_100[:,0])):\n",
        "#   for j in range(i+1 , len(train_100[:,0])):\n",
        "#     if train_100[i,1]> train_100[j,1]:\n",
        "#       c = train_100[j,:]\n",
        "#       train_100[j,:] = train_100[i,:]\n",
        "#       train_100[i,:] = c\n",
        "  # print(train_100[i,:])\n",
        "# sorted_matrix = sorted(train_100, key=lambda x: x[1])\n",
        "\n",
        "# Get the indices that would sort the matrix based on the second column (index 1)\n",
        "sorted_indices = np.argsort(train_100[:, 1])\n",
        "\n",
        "# Use the sorted indices to rearrange the rows of the matrix\n",
        "sorted_matrix = train_100[sorted_indices]\n",
        "\n",
        "# Print the sorted matrix\n",
        "# print(sorted_matrix)\n",
        "train_100 = sorted_matrix\n",
        "# train_100 = sorted_matrix\n",
        "X_train_100=train_100[:,1:-1]\n",
        "y_train_100=train_100[:,-1]\n",
        "X_train_10=train_10[:,1:-1]\n",
        "y_train_10=train_10[:,-1]\n",
        "\n",
        "val_data = np.genfromtxt(val_path, delimiter=',',skip_header=1, dtype=np.float32)\n",
        "test_data = np.genfromtxt(test_path, delimiter=',',skip_header=1, dtype=np.float32)\n",
        "\n",
        "sorted_indices = np.argsort(val_data[:, 1])\n",
        "sorted_matrix = val_data[sorted_indices]\n",
        "val_data = sorted_matrix\n",
        "\n",
        "sorted_indices = np.argsort(test_data[:, 1])\n",
        "sorted_matrix = test_data[sorted_indices]\n",
        "test_data = sorted_matrix\n",
        "\n",
        "X_val=val_data[:,1:-1]\n",
        "y_val=val_data[:,-1]\n",
        "X_test=test_data[:,1:-1]\n",
        "y_test=test_data[:,-1]\n",
        "# print(sorted_matrix)"
      ]
    },
    {
      "cell_type": "code",
      "execution_count": 8,
      "metadata": {
        "id": "3gESEVMP7mZT"
      },
      "outputs": [],
      "source": [
        "# X_train_100.shape\n",
        "# train_100.shape\n",
        "# print(train_100)\n",
        "# for i in range(1,6):\n",
        "#   print(i)\n",
        "# len(train_100[:,0])"
      ]
    },
    {
      "cell_type": "code",
      "execution_count": 9,
      "metadata": {
        "id": "vMjdMMWTmQlb"
      },
      "outputs": [],
      "source": [
        "# def aij(i, j, x):\n",
        "#   sum = 0\n",
        "#   for xn in x[:,1]:\n",
        "#     sum = sum + xn**(i*j)\n",
        "#   return sum\n",
        "\n",
        "# def cj(j, x, t):\n",
        "#   sum = 0\n",
        "#   n = len(x[:,1])\n",
        "#   i = 0\n",
        "#   while i < n:\n",
        "#     sum = sum + t[i,1]*x[i,1]**(j)\n",
        "#     i = i+1\n",
        "#   return sum"
      ]
    },
    {
      "cell_type": "code",
      "execution_count": 10,
      "metadata": {
        "id": "WBmsWYNgzs7t"
      },
      "outputs": [],
      "source": [
        "# i = 0\n",
        "# j = 0\n",
        "# while i < int(m):\n",
        "#   C[i,1] = cj(i, x_train_10, y_train_10)\n",
        "#   print(i)\n",
        "#   while j < m:\n",
        "#     A[i,j] = aij(i, j, x_train_10)\n",
        "#     j = j+1\n",
        "#   i = i+1"
      ]
    },
    {
      "cell_type": "code",
      "execution_count": 8,
      "metadata": {
        "id": "1aHReVM2-CBd"
      },
      "outputs": [],
      "source": [
        "def basis(x, m):\n",
        "  i = 0\n",
        "  N= x.shape[0]\n",
        "  Q= np.empty((N,m+1))\n",
        "  for i in range(m+1):\n",
        "    Q[:,i] = (x**i).reshape(N)\n",
        "  return Q"
      ]
    },
    {
      "cell_type": "code",
      "execution_count": 9,
      "metadata": {
        "id": "CtpZjO9nhVz8"
      },
      "outputs": [],
      "source": [
        "def pseudo_inverse(Q):\n",
        "  A = np.matmul(Q.T,Q)\n",
        "  return np.matmul(np.linalg.pinv(A),Q.T)\n",
        "\n",
        "\n",
        "def lam_pseudo_inverse(Q,l,m):\n",
        "  L = l*np.identity(m+1, dtype = float)\n",
        "  A = np.matmul(Q.T,Q)\n",
        "  return np.matmul(np.linalg.pinv(A+L),Q.T)"
      ]
    },
    {
      "cell_type": "code",
      "execution_count": 10,
      "metadata": {
        "id": "wlw0tfw8hzEl"
      },
      "outputs": [],
      "source": [
        "def curve_fitting(x,y,m):\n",
        "  w = np.matmul(pseudo_inverse(basis(x,m)),y)\n",
        "  return w\n",
        "\n",
        "def lam_curve_fitting(x,y,m,l):\n",
        "  w = np.matmul(lam_pseudo_inverse(basis(x,m),l,m),y)\n",
        "  return w"
      ]
    },
    {
      "cell_type": "code",
      "source": [
        "def err(X,y,m,w):\n",
        "  N = len(y)\n",
        "  Y = np.matmul(basis(X,m),w.T)\n",
        "  t = Y - y\n",
        "  return (np.dot(t,t)/N)**0.5"
      ],
      "metadata": {
        "id": "Jm1ZCvhBaY_m"
      },
      "execution_count": 11,
      "outputs": []
    },
    {
      "cell_type": "code",
      "execution_count": 12,
      "metadata": {
        "id": "-d27qTMXmI9N"
      },
      "outputs": [],
      "source": [
        "# m= np.array([2,3,6,9])"
      ]
    },
    {
      "cell_type": "code",
      "execution_count": 59,
      "metadata": {
        "id": "OQ9vNU3okCEJ"
      },
      "outputs": [],
      "source": [
        "m = 2\n",
        "l = [0,1e-5,0.1,11.52,156]\n"
      ]
    },
    {
      "cell_type": "code",
      "execution_count": 39,
      "metadata": {
        "id": "9SCyDQuQkGiR"
      },
      "outputs": [],
      "source": [
        "# fig= plt.figure()\n",
        "# i=0\n",
        "# for deg in m:\n",
        "#   i=i+1\n",
        "#   ax= fig.add_subplot(2,2,i)\n",
        "#   w = curve_fitting(X_train_10,y_train_10,deg)\n",
        "#   plt.scatter(X_train_10,y_train_10)\n",
        "#   plt.plot(X_train_10,np.matmul(basis(X_train_10,deg),w.T))"
      ]
    },
    {
      "cell_type": "code",
      "execution_count": 40,
      "metadata": {
        "id": "ptAtNje4k8dm"
      },
      "outputs": [],
      "source": [
        "# fig = plt.figure()\n",
        "# w = curve_fitting(X_train_10,y_train_10,m)\n",
        "# plt.scatter(X_train_10,y_train_10)\n",
        "# plt.plot(X_train_10,np.matmul(basis(X_train_10,m),w.T),'r')\n",
        "# plt.title('Polynomial Curve Fitting m = %i,  ' % m + '$\\lambda$ = %1.6f'% l + '\\n10 training data points')\n",
        "# plt.xlabel('X_data')\n",
        "# plt.ylabel('Model_Output_Ym')\n",
        "# plt.legend(['Data','Training Model Output Curve'])\n",
        "# plt.show()"
      ]
    },
    {
      "cell_type": "code",
      "source": [
        "w = lam_curve_fitting(X_train_100,y_train_100,m,l[99])"
      ],
      "metadata": {
        "id": "eZH1-FtXdWgI"
      },
      "execution_count": 49,
      "outputs": []
    },
    {
      "cell_type": "code",
      "source": [
        "plt.scatter(X_train_100,y_train_100)\n",
        "plt.plot(X_train_100,np.matmul(basis(X_train_100,m),w.T),'r')\n",
        "plt.title('Polynomial Curve Fitting m = %i,  ' % m + '$\\lambda$ = %1.6f'% l[99] + '\\n100 training data points')\n",
        "plt.xlabel('X_data')\n",
        "plt.ylabel('Model_Output_Ym')\n",
        "plt.legend(['Data','Training Model Output Curve'])"
      ],
      "metadata": {
        "colab": {
          "base_uri": "https://localhost:8080/",
          "height": 514
        },
        "id": "-S9uxdFadTCT",
        "outputId": "48baffc5-ba7f-469e-c1fc-77a6e78505dd"
      },
      "execution_count": 50,
      "outputs": [
        {
          "output_type": "execute_result",
          "data": {
            "text/plain": [
              "<matplotlib.legend.Legend at 0x7c5395f6e1a0>"
            ]
          },
          "metadata": {},
          "execution_count": 50
        },
        {
          "output_type": "display_data",
          "data": {
            "text/plain": [
              "<Figure size 640x480 with 1 Axes>"
            ],
            "image/png": "[encoded data removed]"
          },
          "metadata": {}
        }
      ]
    },
    {
      "cell_type": "code",
      "source": [
        "er_train = []\n",
        "er_val = []\n",
        "er_test = []\n",
        "for i in l:\n",
        "  w = lam_curve_fitting(X_train_10,y_train_10,m,i)\n",
        "  er_train.append(err(X_train_10,y_train_10,m,w))\n",
        "  er_val.append(err(X_val,y_val,m,w))\n",
        "  er_test.append(err(X_test,y_test,m,w))"
      ],
      "metadata": {
        "id": "ANyW0FlxaKn8"
      },
      "execution_count": 60,
      "outputs": []
    },
    {
      "cell_type": "code",
      "source": [
        "print( np.array(er_train).T)\n"
      ],
      "metadata": {
        "colab": {
          "base_uri": "https://localhost:8080/"
        },
        "id": "L8urLSk3fRxJ",
        "outputId": "760c4cce-45be-4ef0-d122-8257b0e061f7"
      },
      "execution_count": 63,
      "outputs": [
        {
          "output_type": "stream",
          "name": "stdout",
          "text": [
            "[11.05514657 11.05514657 11.05900258 18.50602344 41.76083688]\n"
          ]
        }
      ]
    },
    {
      "cell_type": "code",
      "source": [
        "# Define a sample matrix (list of lists)\n",
        "matrix = [\n",
        "    [3, 2, 5],\n",
        "    [1, 4, 6],\n",
        "    [7, 0, 8]\n",
        "]\n",
        "\n",
        "# Sort the matrix based on the second column (index 1)\n",
        "sorted_matrix = sorted(matrix, key=lambda x: x[1])\n",
        "\n",
        "# Print the sorted matrix\n",
        "for row in sorted_matrix:\n",
        "    print(row)"
      ],
      "metadata": {
        "id": "-qHWB7WYaUbR",
        "colab": {
          "base_uri": "https://localhost:8080/"
        },
        "outputId": "cd3fe605-d25b-4c79-e417-61a77e67a850"
      },
      "execution_count": 43,
      "outputs": [
        {
          "output_type": "stream",
          "name": "stdout",
          "text": [
            "[7, 0, 8]\n",
            "[3, 2, 5]\n",
            "[1, 4, 6]\n"
          ]
        }
      ]
    },
    {
      "cell_type": "code",
      "source": [
        "import numpy as np\n",
        "\n",
        "# Define a sample matrix as a NumPy array\n",
        "matrix = np.array([\n",
        "    [3, 2, 5],\n",
        "    [1, 4, 6],\n",
        "    [7, 0, 8]\n",
        "])\n",
        "\n",
        "# Get the indices that would sort the matrix based on the second column (index 1)\n",
        "sorted_indices = np.argsort(matrix[:, 1])\n",
        "\n",
        "# Use the sorted indices to rearrange the rows of the matrix\n",
        "sorted_matrix = matrix[sorted_indices]\n",
        "\n",
        "# Print the sorted matrix\n",
        "print(sorted_matrix)"
      ],
      "metadata": {
        "id": "cjbFzdaW9EY1"
      },
      "execution_count": null,
      "outputs": []
    },
    {
      "cell_type": "code",
      "source": [],
      "metadata": {
        "id": "Ah0xHNeN-D0D"
      },
      "execution_count": null,
      "outputs": []
    }
  ],
  "metadata": {
    "colab": {
      "provenance": []
    },
    "kernelspec": {
      "display_name": "Python 3",
      "name": "python3"
    },
    "language_info": {
      "name": "python"
    }
  },
  "nbformat": 4,
  "nbformat_minor": 0
}